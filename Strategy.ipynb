{
 "cells": [
  {
   "cell_type": "code",
   "execution_count": null,
   "id": "bf968aa8-397c-4249-8a95-09dc91250fab",
   "metadata": {},
   "outputs": [],
   "source": [
    "import pandas as pd\n",
    "import talib\n",
    "from backtesting import Backtest\n",
    "from backtesting.lib import crossover, TrailingStrategy\n",
    "from backtesting.test import GOOG\n",
    "\n",
    "#Writing this for the BUY case only for now. Longs only, in an up market.\n",
    "class MID_reversion(TrailingStrategy):\n",
    "\n",
    "    # Declare the moving average values to be used in the crossover/threshold condition.\n",
    "    # Since these are **CLASS** values, they can be optimized later by the engine.\n",
    "    moving_average = 50\n",
    "    midp_period = 14\n",
    "    \n",
    "    def init(self):\n",
    "        super().init()\n",
    "        #Add logic to precompute indicator values inside init(). It should hold the entire series of values.\n",
    "        #My thought is that this is actually going through the entire dataframe and calculating another column for each row.\n",
    "        self.midprice = self.I(talib.MIDPRICE, self.data.High, self.data.Low, self.midp_period)\n",
    "        self.ema = self.I(talib.EMA, self.data.Close, self.moving_average)\n",
    "        self.set_trailing_sl(1.5)\n",
    "        \n",
    "    def next(self):\n",
    "        super().next()\n",
    "        # This method is called iteratively, once for each row in the data frame.\n",
    "        # Think of this as clicking the next button when manually backtesting.\n",
    "        if ((self.data.Low <= self.midprice) and (self.data.Close >= self.midprice) and (self.midprice > self.ema)):\n",
    "            self.position.close()\n",
    "            self.buy()\n",
    "\n",
    "bt = Backtest(GOOG, MID_reversion, cash=1000, commission=0)\n",
    "stats = bt.run()\n",
    "print(stats)\n",
    "bt.plot()\n"
   ]
  }
 ],
 "metadata": {
  "kernelspec": {
   "display_name": "Python 3 (ipykernel)",
   "language": "python",
   "name": "python3"
  },
  "language_info": {
   "codemirror_mode": {
    "name": "ipython",
    "version": 3
   },
   "file_extension": ".py",
   "mimetype": "text/x-python",
   "name": "python",
   "nbconvert_exporter": "python",
   "pygments_lexer": "ipython3",
   "version": "3.9.17"
  }
 },
 "nbformat": 4,
 "nbformat_minor": 5
}
